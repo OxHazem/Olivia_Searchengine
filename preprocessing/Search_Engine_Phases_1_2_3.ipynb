{
  "cells": [
    {
      "cell_type": "markdown",
      "metadata": {
        "id": "project_intro"
      },
      "source": [
        "# Search Engine Project: Phases 1, 2, and 3\n",
        "\n",
        "This notebook implements a search engine for the Cranfield dataset across three phases:\n",
        "- **Phase 1**: Indexes the dataset using PyTerrier.\n",
        "- **Phase 2 (Query Preproccessing)**: Processes queries with TF-IDF ranking, fixing identical scores and restrictive retrieval.\n",
        "- **Phase 3 (Query Expansion)**: Adds query expansion with relevance feedback, synonym mapping, and BERT, a Gradio interface, and evaluation."
      ]
    },
    {
      "cell_type": "markdown",
      "metadata": {
        "id": "phase_1_intro"
      },
      "source": [
        "## Phase 1: Indexing the Cranfield Dataset\n",
        "\n",
        "Preprocessing the dataset, comparing stemming methods, and creating a PyTerrier index."
      ]
    },
    {
      "cell_type": "code",
      "execution_count": null,
      "metadata": {
        "id": "8t3D_oyXcxVf"
      },
      "outputs": [],
      "source": [
        "import pandas as pd\n",
        "import re\n",
        "from sklearn.feature_extraction.text import CountVectorizer\n",
        "from nltk.stem import PorterStemmer, SnowballStemmer, LancasterStemmer"
      ]
    },
    {
      "cell_type": "code",
      "execution_count": null,
      "metadata": {
        "id": "W4vf7dm1ecdR"
      },
      "outputs": [],
      "source": [
        "input_file = \"D:\\DownLoad\\projects\\Search Engine\\Olivia_Searchengine\\datacollection\\output\\cran.all.1400.csv\"\n",
        "output_file = \"D:\\DownLoad\\projects\\Search Engine\\Olivia_Searchengine\\datacollection\\output\\cran_preprocessed_modern.csv\""
      ]
    },
    {
      "cell_type": "code",
      "execution_count": null,
      "metadata": {
        "colab": {
          "base_uri": "https://localhost:8080/"
        },
        "id": "0S6unnGueh3S",
        "outputId": "9e72a476-fa33-4d75-df3e-91a96da98dc7"
      },
      "outputs": [],
      "source": [
        "print(\"=== Loading the Cranfield Dataset ===\")\n",
        "data = pd.read_csv(input_file)\n",
        "df = pd.DataFrame(data)\n",
        "print(\"Dataset Info:\")\n",
        "print(df.info())\n",
        "print(\"\\nFirst 5 rows of raw data:\")\n",
        "print(df.head())"
      ]
    },
    {
      "cell_type": "code",
      "execution_count": null,
      "metadata": {
        "colab": {
          "base_uri": "https://localhost:8080/"
        },
        "id": "y_j6CerUejeG",
        "outputId": "25ee86d1-4303-4a7b-b7b2-3bc199b2a13b"
      },
      "outputs": [],
      "source": [
        "print(\"\\n=== Checking for Missing Values ===\")\n",
        "print(\"Missing values in 'Title':\", df['Title'].isna().sum())\n",
        "print(\"Missing values in 'Text':\", df['Text'].isna().sum())\n",
        "print(\"Total rows before dropping NaN:\", len(df))"
      ]
    },
    {
      "cell_type": "code",
      "execution_count": null,
      "metadata": {
        "colab": {
          "base_uri": "https://localhost:8080/"
        },
        "id": "B8rJWu3flEus",
        "outputId": "c3600800-ff7e-4d5a-f416-88d9d88560c2"
      },
      "outputs": [],
      "source": [
        "df = df.dropna(subset=['Title'])\n",
        "print(\"Total rows after dropping NaN in Title:\", len(df))\n",
        "print(\"\\nFirst 5 rows after dropping NaN:\")\n",
        "print(df.head())"
      ]
    },
    {
      "cell_type": "code",
      "execution_count": null,
      "metadata": {
        "colab": {
          "base_uri": "https://localhost:8080/"
        },
        "id": "BpLbfv4gelRG",
        "outputId": "8661d881-f2d8-4204-e0a6-ebba8ea197e9"
      },
      "outputs": [],
      "source": [
        "print(\"\\n=== Step 1: Cleaning Titles ===\")\n",
        "cleaned_titles = []\n",
        "for title in df['Title']:\n",
        "    title_clean = re.sub(r'[^a-zA-Z\\s]', '', str(title))\n",
        "    title_clean = re.sub(r'\\s+', ' ', title_clean).strip()\n",
        "    cleaned_titles.append(title_clean.lower())\n",
        "df['Cleaned_Title'] = cleaned_titles\n",
        "print(\"Sample of cleaned Titles (first 2 rows):\")\n",
        "print(df[['Doc_NO', 'Cleaned_Title']].head(2))"
      ]
    },
    {
      "cell_type": "code",
      "execution_count": null,
      "metadata": {
        "colab": {
          "base_uri": "https://localhost:8080/"
        },
        "id": "oMbMCVyLfAXv",
        "outputId": "51848eaa-602c-4403-d6a1-a682a5ddd141"
      },
      "outputs": [],
      "source": [
        "print(\"\\n=== Step 2: Tokenizing Titles and Vocabulary Analysis ===\")\n",
        "vectorizer = CountVectorizer(\n",
        "    stop_words=\"english\",\n",
        "    lowercase=True,\n",
        "    token_pattern=r'\\b[a-zA-Z]+\\b'\n",
        ")\n",
        "vector = vectorizer.fit_transform(df['Cleaned_Title'])\n",
        "terms = vectorizer.get_feature_names_out()\n",
        "print(\"Total unique terms in Titles:\", len(terms))\n",
        "print(\"First 20 terms in Title vocabulary:\", terms[:20])"
      ]
    },
    {
      "cell_type": "code",
      "execution_count": null,
      "metadata": {
        "colab": {
          "base_uri": "https://localhost:8080/"
        },
        "id": "S0vlxQ-RfDVp",
        "outputId": "3baf8ccd-9238-4528-d416-a7150f5d2d40"
      },
      "outputs": [],
      "source": [
        "tokenized_titles = []\n",
        "for title in df['Cleaned_Title']:\n",
        "    words = title.split()\n",
        "    tokenized_titles.append(words)\n",
        "df['Title_Tokens'] = tokenized_titles\n",
        "print(\"\\nSample tokenized Titles (first 2 rows):\")\n",
        "print(df[['Doc_NO', 'Title_Tokens']].head(2))"
      ]
    },
    {
      "cell_type": "code",
      "execution_count": null,
      "metadata": {
        "colab": {
          "base_uri": "https://localhost:8080/"
        },
        "id": "uMBGNCk4nH2t",
        "outputId": "ddf7d736-e1f2-486a-83b6-fadb56b35e21"
      },
      "outputs": [],
      "source": [
        "print(\"\\n=== Step 3: Comparing Stemming Methods ===\")\n",
        "porter = PorterStemmer()\n",
        "snowball = SnowballStemmer(\"english\")\n",
        "lancaster = LancasterStemmer()"
      ]
    },
    {
      "cell_type": "code",
      "execution_count": null,
      "metadata": {
        "id": "ruCZVDS5fGla"
      },
      "outputs": [],
      "source": [
        "porter_stemmed = []\n",
        "snowball_stemmed = []\n",
        "lancaster_stemmed = []\n",
        "for word in terms:\n",
        "    porter_stemmed.append(porter.stem(word))\n",
        "    snowball_stemmed.append(snowball.stem(word))\n",
        "    lancaster_stemmed.append(lancaster.stem(word))"
      ]
    },
    {
      "cell_type": "code",
      "execution_count": null,
      "metadata": {
        "colab": {
          "base_uri": "https://localhost:8080/"
        },
        "id": "kh4gOYRyi_YG",
        "outputId": "45c0e314-0ba1-4831-ddbb-62b370cb2cba"
      },
      "outputs": [],
      "source": [
        "print(\"\\nStemming Comparison (First 5 Title Terms):\")\n",
        "print(\"-\" * 60)\n",
        "print(f\"{'Original':<15} | {'Porter':<15} | {'Snowball':<15} | {'Lancaster':<15}\")\n",
        "print(\"-\" * 60)\n",
        "for i in range(min(5, len(terms))):\n",
        "    print(f\"{terms[i]:<15} | {porter_stemmed[i]:<15} | {snowball_stemmed[i]:<15} | {lancaster_stemmed[i]:<15}\")\n",
        "print(\"-\" * 60)"
      ]
    },
    {
      "cell_type": "code",
      "execution_count": null,
      "metadata": {
        "colab": {
          "base_uri": "https://localhost:8080/"
        },
        "id": "8Wawr023l1XQ",
        "outputId": "2dc0c6e0-0244-4ad3-e4c3-6ac8e8d23636"
      },
      "outputs": [],
      "source": [
        "print(\"\\nApplying Snowball Stemming to Title Tokens...\")\n",
        "stemmed_titles = []\n",
        "for tokens in df['Title_Tokens']:\n",
        "    stemmed_words = []\n",
        "    for word in tokens:\n",
        "        stemmed_words.append(snowball.stem(word))\n",
        "    stemmed_titles.append(stemmed_words)\n",
        "df['Stemmed_Title_Tokens'] = stemmed_titles\n",
        "print(\"Sample stemmed Titles (first 2 rows):\")\n",
        "print(df[['Doc_NO', 'Stemmed_Title_Tokens']].head(2))"
      ]
    },
    {
      "cell_type": "code",
      "execution_count": null,
      "metadata": {
        "colab": {
          "base_uri": "https://localhost:8080/"
        },
        "id": "52VX7toJnS8k",
        "outputId": "5b8cc748-9150-4afa-8894-fc3a89d811c6"
      },
      "outputs": [],
      "source": [
        "print(\"\\n=== Step 4: Creating Processed_Text from Titles for Indexing ===\")\n",
        "processed_text = []\n",
        "for stemmed_tokens in df['Stemmed_Title_Tokens']:\n",
        "    joined = \" \".join(stemmed_tokens)\n",
        "    processed_text.append(joined)\n",
        "df['Processed_Text'] = processed_text\n",
        "print(\"Sample Processed_Text from Titles (first 2 rows):\")\n",
        "print(df[['Doc_NO', 'Processed_Text']].head(2))"
      ]
    },
    {
      "cell_type": "code",
      "execution_count": null,
      "metadata": {
        "colab": {
          "base_uri": "https://localhost:8080/"
        },
        "id": "KjsrbwbPnXtm",
        "outputId": "c816341b-d177-4227-cf6d-91604ac48329"
      },
      "outputs": [],
      "source": [
        "print(\"\\n=== Step 6: Saving Processed Data ===\")\n",
        "output_df = df[['Doc_NO', 'Title', 'Bib', 'Text', 'Processed_Text']]\n",
        "output_df.to_csv(output_file, index=False)\n",
        "print(\"Saved to:\", output_file)\n",
        "print(\"Final output (first 5 rows):\")\n",
        "print(output_df.head())"
      ]
    },
    {
      "cell_type": "code",
      "execution_count": null,
      "metadata": {
        "colab": {
          "base_uri": "https://localhost:8080/"
        },
        "id": "vw4dIjd8nVnu",
        "outputId": "f4caeeae-b7a5-409e-9b77-5d0602892a02"
      },
      "outputs": [],
      "source": [
        "print(\"\\n=== Step 5: Creative Title Insights ===\")\n",
        "print(\"Average token count per Title:\", round(df['Title_Tokens'].apply(len).mean(), 2))\n",
        "print(\"Longest Title (tokens):\", df['Title_Tokens'].apply(len).max(), \"in Doc_NO:\",\n",
        "      df['Doc_NO'][df['Title_Tokens'].apply(len).idxmax()])\n",
        "print(\"Most frequent term in Titles (before stemming):\")\n",
        "word_counts = vector.toarray().sum(axis=0)\n",
        "top_term_idx = word_counts.argmax()\n",
        "print(f\"'{terms[top_term_idx]}' appears {word_counts[top_term_idx]} times\")"
      ]
    },
    {
      "cell_type": "code",
      "execution_count": null,
      "metadata": {
        "colab": {
          "base_uri": "https://localhost:8080/"
        },
        "id": "nCN4_g7KflOl",
        "outputId": "d7b227e2-1d8b-4418-d964-25dcfa4f1986"
      },
      "outputs": [],
      "source": [
        "!pip install python-terrier"
      ]
    },
    {
      "cell_type": "code",
      "execution_count": null,
      "metadata": {
        "id": "1r2h34lcfoKl"
      },
      "outputs": [],
      "source": [
        "import pyterrier as pt"
      ]
    },
    {
      "cell_type": "code",
      "execution_count": null,
      "metadata": {
        "colab": {
          "base_uri": "https://localhost:8080/"
        },
        "id": "Zrns3BJMfue4",
        "outputId": "4ab735b6-4aaa-441b-f595-e033220b65bb"
      },
      "outputs": [],
      "source": [
        "if not pt.java.started():\n",
        "    pt.java.init()\n",
        "    print(\"Java Virtual Machine started!\")"
      ]
    },
    {
      "cell_type": "code",
      "execution_count": null,
      "metadata": {
        "id": "WN011XDZfx1a"
      },
      "outputs": [],
      "source": [
        "input_file = \"D:\\DownLoad\\projects\\Search Engine\\Olivia_Searchengine\\datacollection\\output\\cran_preprocessed_modern.csv\""
      ]
    },
    {
      "cell_type": "code",
      "execution_count": null,
      "metadata": {
        "colab": {
          "base_uri": "https://localhost:8080/"
        },
        "id": "dC4N9G_qo2kg",
        "outputId": "928c1a24-7380-4acf-d7e3-1ba8ca35bad0"
      },
      "outputs": [],
      "source": [
        "df = pd.read_csv(input_file)\n",
        "print(df.head())"
      ]
    },
    {
      "cell_type": "code",
      "execution_count": null,
      "metadata": {
        "colab": {
          "base_uri": "https://localhost:8080/"
        },
        "id": "nzKiw_9ypAbD",
        "outputId": "7dc54834-2be1-402e-e0ca-f2f418f52032"
      },
      "outputs": [],
      "source": [
        "df[\"docno\"] = df[\"Doc_NO\"].astype(str)\n",
        "print(\"\\nSample with docno (first 2 rows):\")\n",
        "print(df[['docno', 'Title', 'Processed_Text']].head(2))"
      ]
    },
    {
      "cell_type": "code",
      "execution_count": null,
      "metadata": {
        "colab": {
          "base_uri": "https://localhost:8080/"
        },
        "id": "qrdFGYFapFQ7",
        "outputId": "40f3f8c6-e4d3-4331-f701-7723e6354ae8"
      },
      "outputs": [],
      "source": [
        "print(\"\\n=== Step 1: Creating and Indexing the Titles ===\")\n",
        "indexer = pt.DFIndexer(r\"D:\\DownLoad\\projects\\Search Engine\\Olivia_Searchengine\\preprocessing\\CranfieldTitleIndex\", overwrite=True)\n",
        "index_ref = indexer.index(df[\"Processed_Text\"], df[\"docno\"])\n",
        "print(\"Index location:\", index_ref.toString())\n",
        "print(\"Indexing complete! Stored at:\", index_ref.toString())"
      ]
    },
    {
      "cell_type": "code",
      "execution_count": null,
      "metadata": {
        "colab": {
          "base_uri": "https://localhost:8080/"
        },
        "id": "dUi1YzJwpdyp",
        "outputId": "0196d7bf-b1c6-4b5b-abef-f91f50123572"
      },
      "outputs": [],
      "source": [
        "print(\"\\n=== Step 2: Loading the Index ===\")\n",
        "index = pt.IndexFactory.of(index_ref)\n",
        "print(\"Index loaded successfully!\")"
      ]
    },
    {
      "cell_type": "code",
      "execution_count": null,
      "metadata": {
        "colab": {
          "base_uri": "https://localhost:8080/"
        },
        "id": "3-KXC9Kopg2w",
        "outputId": "007b5284-bcbf-4e08-8728-4437a8c3120e"
      },
      "outputs": [],
      "source": [
        "lexicon = index.getLexicon()\n",
        "count = 0\n",
        "for kv in lexicon:\n",
        "    if count < 10:\n",
        "        term = kv.getKey()\n",
        "        entry = kv.getValue()\n",
        "        print(f\"{term} -> Nt={entry.getNumberOfEntries()} TF={entry.getFrequency()} maxTF={entry.getMaxFrequencyInDocuments()}\")\n",
        "        count = count + 1\n",
        "    else:\n",
        "        break"
      ]
    },
    {
      "cell_type": "code",
      "execution_count": null,
      "metadata": {
        "colab": {
          "base_uri": "https://localhost:8080/"
        },
        "id": "WJKt0WmLqA3V",
        "outputId": "611fabb5-9314-4a72-c9a2-e0714ffebfed"
      },
      "outputs": [],
      "source": [
        "print(\"\\n=== Step 5: Setting Up Search Function ===\")\n",
        "def search_term(term):\n",
        "    stemmer = SnowballStemmer(\"english\")\n",
        "    term = term.lower()\n",
        "    stemmed_term = stemmer.stem(term)\n",
        "    print(f\"\\nSearching for: '{term}' (stemmed: '{stemmed_term}')\")\n",
        "    try:\n",
        "        pointer = index.getLexicon()[stemmed_term]\n",
        "        print(f\"Found term '{stemmed_term}' with stats: {pointer.toString()}\")\n",
        "        print(\"Documents containing the term:\")\n",
        "        postings = index.getInvertedIndex().getPostings(pointer)\n",
        "        for posting in postings:\n",
        "            doc_id = posting.getId()\n",
        "            doc_length = posting.getDocumentLength()\n",
        "            print(f\"- Doc ID: {doc_id} (docno: {df['docno'].iloc[doc_id]}), Length: {doc_length}\")\n",
        "    except KeyError:\n",
        "        print(f\"Term '{stemmed_term}' not found in the index.\")"
      ]
    },
    {
      "cell_type": "code",
      "execution_count": null,
      "metadata": {
        "colab": {
          "base_uri": "https://localhost:8080/"
        },
        "id": "oXcg_IEGrIKx",
        "outputId": "26baf74f-02be-457b-a7ba-8128e23ace00"
      },
      "outputs": [],
      "source": [
        "search_term(\"information\")\n",
        "search_term(\"Omar\")"
      ]
    },
    {
      "cell_type": "markdown",
      "metadata": {
        "id": "phase_2_intro"
      },
      "source": [
        "## Phase 2: Query Processing with TF-IDF Ranking\n",
        "\n",
        "This phase processes queries, retrieves documents, and ranks them using TF-IDF. It fixes:\n",
        "- **Identical scores (1.4142)**: Uses full vocabulary and cosine similarity for varied scores.\n",
        "- **Restrictive retrieval**: Retrieves documents with *any* query term, improving recall for queries like 'information retrieval'."
      ]
    },
    {
      "cell_type": "code",
      "execution_count": null,
      "metadata": {
        "id": "phase_2_imports"
      },
      "outputs": [],
      "source": [
        "from sklearn.feature_extraction.text import TfidfVectorizer\n",
        "from sklearn.metrics.pairwise import cosine_similarity\n",
        "import numpy as np"
      ]
    },
    {
      "cell_type": "code",
      "execution_count": null,
      "metadata": {
        "colab": {
          "base_uri": "https://localhost:8080/"
        },
        "id": "phase_2_preprocess_query",
        "outputId": "19e98daa-9d02-43c3-d8b9-fd4f395954c6"
      },
      "outputs": [],
      "source": [
        "def preprocess_query(query, stemmer=SnowballStemmer('english')):\n",
        "    query = query.lower()\n",
        "    query = re.sub(r'[^a-zA-Z\\s]', '', query)\n",
        "    query = re.sub(r'\\s+', ' ', query).strip()\n",
        "    tokens = query.split()\n",
        "    stemmed_tokens = [stemmer.stem(token) for token in tokens]\n",
        "    return stemmed_tokens\n",
        "\n",
        "# Test\n",
        "sample_query = 'Experimental Aerodynamics Wing'\n",
        "print('Sample query:', sample_query)\n",
        "print('Preprocessed tokens:', preprocess_query(sample_query))"
      ]
    },
    {
      "cell_type": "code",
      "execution_count": null,
      "metadata": {
        "id": "phase_2_retrieve_documents"
      },
      "outputs": [],
      "source": [
        "def retrieve_documents(query_tokens, index, df):\n",
        "    lexicon = index.getLexicon()\n",
        "    doc_ids = set()\n",
        "\n",
        "    for token in query_tokens:\n",
        "        try:\n",
        "            pointer = lexicon[token]\n",
        "            postings = index.getInvertedIndex().getPostings(pointer)\n",
        "            doc_ids.update(posting.getId() for posting in postings)\n",
        "        except KeyError:\n",
        "            print(f\"Term '{token}' not found in index.\")\n",
        "\n",
        "    if not doc_ids:\n",
        "        return []\n",
        "\n",
        "    results = []\n",
        "    for doc_id in doc_ids:\n",
        "        docno = df['docno'].iloc[doc_id]\n",
        "        title = df['Title'].iloc[doc_id]\n",
        "        processed_text = df['Processed_Text'].iloc[doc_id]\n",
        "        results.append({\n",
        "            'doc_id': doc_id,\n",
        "            'docno': docno,\n",
        "            'title': title,\n",
        "            'processed_text': processed_text\n",
        "        })\n",
        "\n",
        "    return results"
      ]
    },
    {
      "cell_type": "code",
      "execution_count": null,
      "metadata": {
        "id": "phase_2_rank_documents"
      },
      "outputs": [],
      "source": [
        "def rank_documents(documents, query_tokens, original_query_tokens=None):\n",
        "    if not documents:\n",
        "        return []\n",
        "\n",
        "    corpus = [doc['processed_text'] for doc in documents]\n",
        "    query = ' '.join(query_tokens)\n",
        "\n",
        "    vectorizer = TfidfVectorizer(\n",
        "        lowercase=False,\n",
        "        token_pattern=r'(?u)\\b\\w+\\b',\n",
        "        norm='l2',\n",
        "        use_idf=True,\n",
        "        smooth_idf=True\n",
        "    )\n",
        "    try:\n",
        "        tfidf_matrix = vectorizer.fit_transform(corpus)\n",
        "        query_vector = vectorizer.transform([query])\n",
        "        scores = cosine_similarity(query_vector, tfidf_matrix).flatten()\n",
        "\n",
        "        if original_query_tokens:\n",
        "            original_query = ' '.join(original_query_tokens)\n",
        "            original_vector = vectorizer.transform([original_query])\n",
        "            original_scores = cosine_similarity(original_vector, tfidf_matrix).flatten()\n",
        "            scores = 0.5 * scores + 0.5 * original_scores\n",
        "    except ValueError as e:\n",
        "        print(f'TF-IDF calculation failed: {e}')\n",
        "        scores = [0] * len(documents)\n",
        "\n",
        "    for i, doc in enumerate(documents):\n",
        "        doc['tfidf_score'] = scores[i]\n",
        "\n",
        "    ranked_docs = sorted(documents, key=lambda x: x['tfidf_score'], reverse=True)\n",
        "    return ranked_docs"
      ]
    },
    {
      "cell_type": "code",
      "execution_count": null,
      "metadata": {
        "colab": {
          "base_uri": "https://localhost:8080/"
        },
        "id": "phase_2_search_function",
        "outputId": "6f447110-55b2-4f63-d594-ce9c93f59a61"
      },
      "outputs": [],
      "source": [
        "def search(query, index, df, top_k=5):\n",
        "    print(f'\\n=== Searching for: \"{query}\" ===')\n",
        "    query_tokens = preprocess_query(query)\n",
        "    print('Query tokens:', query_tokens)\n",
        "\n",
        "    documents = retrieve_documents(query_tokens, index, df)\n",
        "    if not documents:\n",
        "        print('No documents found.')\n",
        "        return []\n",
        "    print(f'Found {len(documents)} documents.')\n",
        "\n",
        "    ranked_docs = rank_documents(documents, query_tokens)\n",
        "\n",
        "    print(f'Top {min(top_k, len(ranked_docs))} results:')\n",
        "    for i, doc in enumerate(ranked_docs[:top_k], 1):\n",
        "        print(f'{i}. Docno: {doc[\"docno\"]}, Title: {doc[\"title\"]}, TF-IDF Score: {doc[\"tfidf_score\"]:.4f}')\n",
        "\n",
        "    return ranked_docs\n",
        "\n",
        "# Test searches\n",
        "search('aerodynamics wing', index, df)\n",
        "search('information retrieval', index, df)\n",
        "search('nonexistent term', index, df)"
      ]
    },
    {
      "cell_type": "markdown",
      "metadata": {
        "id": "phase_3_intro"
      },
      "source": [
        "## Phase 3: Query Expansion, User Interface, and Evaluation\n",
        "\n",
        "This phase enhances the search engine with query expansion (relevance feedback, synonym mapping, BERT), a Gradio interface, and evaluation with precision@5."
      ]
    },
    {
      "cell_type": "code",
      "execution_count": null,
      "metadata": {
        "colab": {
          "base_uri": "https://localhost:8080/"
        },
        "id": "phase_3_install_libraries",
        "outputId": "6489e1de-455c-4ae6-8326-299013cba6a9"
      },
      "outputs": [],
      "source": [
        "!pip install transformers==4.44.2 torch==2.4.1 gradio==4.44.0\n",
        "from collections import Counter\n",
        "from transformers import BertTokenizer, BertModel\n",
        "import torch\n",
        "import gradio as gr\n",
        "import numpy as np"
      ]
    },
    {
      "cell_type": "code",
      "execution_count": null,
      "metadata": {
        "colab": {
          "base_uri": "https://localhost:8080/",
          "height": 996,
          "referenced_widgets": [
            "183193bdd7cb4a4d8e6af7b687f44ddc",
            "d5a8feb4c23945839518077ce8abb115",
            "3c4304a3778145fe8b8849d7a903e8f4",
            "a5e5e3938eb4460cbd0ed37639ec1d0a",
            "93d4d8560026424d9a962869e98cecba",
            "faae605243424c5ca7aeb728d09bb54a",
            "9b7a6edda5b3474f899064d32d2c9b87",
            "5bfef7e4d43143fd9c37d82be9b91be5",
            "6c353e3f0b6540cf85bf12354b22f551",
            "074a2f49bd12478cb62798c6db678dcd",
            "286952946b274f0eb35cfcca15e4df7c",
            "e9d60080a7ac4605a65f69323ef18a1e",
            "9a77b533e8734234b4297a6ec2dd59df",
            "99a8b9e99240497fb0e68c44a033c410",
            "ee15152da205462e86f3e26abd7eab24",
            "ff3df5daa0c749d2a5670fc047960898",
            "20a6e902231a43e29ddff372f005b740",
            "c8f4ab6c99624f69bdcf79863cb1c120",
            "97acec061ede4cce8985921c6b959b22",
            "dac476acf28d458197ab1454ae1b0b4a",
            "482c50ddbee04f9db3b27fe47d2ca4de",
            "a2b3f76b10a448709695e6cde55e7654",
            "f24bf1ec39254c9c951412fd92f6c988",
            "4084719502c8484c91f6218b17cf774a",
            "e9629eb3833b4f2c9d09ca85ec9ffa08",
            "b82aff1b08c24fe0999cf9ea52079d53",
            "e803911c5e0d41f280548fea188b457d",
            "6cd04ea01a97417292c917ac274cd21f",
            "f1ff19fbaf3f4be4a452e7c0b5cfc30c",
            "d7d28247ddbb41b49b8d5b1afd7ff032",
            "4673088292d646edb02199917e84c3b4",
            "f1a23f6ab6ce41ecbfd95a7fb35f42c4",
            "27207943bf384ead9046fc8e3a0b89c2",
            "6dce583bf9c04a1b8299f665a1c6186d",
            "38717c9b550744bea8d94401d608f136",
            "a545d779191d4c60961c293049780d01",
            "75c82fcbee67477a88820925421b1ff6",
            "a438cbbd2142414282050a981886f953",
            "8e40746e4f4d4e45adc5fb59735da694",
            "ba44332602534a6194bc686040628e28",
            "928f19518b4a4b5caa06a0297a0d1178",
            "ce399b8fabda4a8db8cf03a5ca879521",
            "6b5fd1d10d9e4426984b5fc2d5a60e39",
            "047e67d701af4770884cc829524bc53d",
            "df9a102ca78746d08c24bf49782b0f1a",
            "c5e93da51f414b7c97e5e3dafbc45ae1",
            "b1661d5f162d4b5c9dc37a7683670b35",
            "1cf2ba12082645d683b1ff87a04ef097",
            "5d105c12097e461f8f1e9a390d055110",
            "c6c9747105134466ab191c92bd74d0ad",
            "1f9ee91503a44bebb162f348c6603d48",
            "d6c29340c50f4e0db9769420c1d0cafd",
            "41f0baaea3f74b77b41e2450549be222",
            "6917a494cd924a589311e847284e3452",
            "9b86c1ebdad84c808bda8e43baa4f912"
          ]
        },
        "id": "phase_3_expand_query",
        "outputId": "4671a84a-20bc-4092-ebca-e8463d63e767"
      },
      "outputs": [],
      "source": [
        "import nltk\n",
        "nltk.download('stopwords')\n",
        "from nltk.corpus import stopwords\n",
        "\n",
        "def expand_query(query, index, df, expansion_type='bert', top_k=3, num_terms=1):\n",
        "    query_tokens = preprocess_query(query)\n",
        "    print(f'Original query tokens: {query_tokens}')\n",
        "\n",
        "\n",
        "    lexicon = index.getLexicon()\n",
        "    def is_in_index(term):\n",
        "        return term in lexicon\n",
        "\n",
        "    synonym_map = {\n",
        "        'aerodynam': ['flow', 'lift', 'airfoil'],\n",
        "        'wing': ['airfoil', 'flap', 'swept'],\n",
        "        'boundari': ['layer', 'shear', 'turbul'],\n",
        "        'flow': ['stream', 'current'],\n",
        "        'experiment': ['test', 'trial'],\n",
        "        'inform': ['data', 'report', 'compil'],\n",
        "        'retriev': ['search', 'queri', 'fetch']\n",
        "    }\n",
        "    synonym_terms = []\n",
        "    for token in query_tokens:\n",
        "        if token in synonym_map:\n",
        "            synonym_terms.extend([syn for syn in synonym_map[token] if syn not in query_tokens and is_in_index(syn)])\n",
        "    synonym_terms = synonym_terms[:num_terms]\n",
        "    print(f'Synonym terms: {synonym_terms}')\n",
        "\n",
        "    stop_words = set(stopwords.words('english'))\n",
        "    initial_docs = search(query, index, df, top_k=top_k)\n",
        "    feedback_terms = []\n",
        "    if initial_docs:\n",
        "        all_terms = []\n",
        "        for doc in initial_docs:\n",
        "            terms = [t for t in doc['processed_text'].split() if t not in stop_words and t not in synonym_terms and is_in_index(t)]\n",
        "            all_terms.extend(terms)\n",
        "        term_counts = Counter(all_terms)\n",
        "        feedback_terms = [term for term, count in term_counts.most_common() if term not in query_tokens and term not in synonym_terms and term not in stop_words and is_in_index(term)][:num_terms]\n",
        "        print(f'Relevance feedback terms: {feedback_terms}')\n",
        "    else:\n",
        "        print('No documents found for initial query.')\n",
        "\n",
        "    embedding_terms = []\n",
        "    if expansion_type == 'bert':\n",
        "        print('Loading BERT...')\n",
        "        tokenizer = BertTokenizer.from_pretrained('bert-base-uncased')\n",
        "        model = BertModel.from_pretrained('bert-base-uncased')\n",
        "        vocab = [kv.getKey() for kv in lexicon]\n",
        "        query_inputs = tokenizer(' '.join(query_tokens), return_tensors='pt', padding=True, truncation=True)\n",
        "        with torch.no_grad():\n",
        "            query_outputs = model(**query_inputs)\n",
        "        query_embed = query_outputs.last_hidden_state[:, 0, :].mean(dim=0).numpy()\n",
        "\n",
        "        inputs = tokenizer(vocab[:100], return_tensors='pt', padding=True, truncation=True)\n",
        "        with torch.no_grad():\n",
        "            outputs = model(**inputs)\n",
        "        vocab_embeds = outputs.last_hidden_state[:, 0, :].numpy()\n",
        "\n",
        "        similarities = cosine_similarity([query_embed], vocab_embeds).flatten()\n",
        "        top_indices = np.argsort(similarities)[::-1]\n",
        "        for i in top_indices:\n",
        "            if similarities[i] > 0.85:\n",
        "                term = vocab[i]\n",
        "                if term not in query_tokens and term not in synonym_terms and term not in feedback_terms and term not in stop_words and is_in_index(term):\n",
        "                    embedding_terms.append(term)\n",
        "                    break\n",
        "        print(f'BERT embedding terms: {embedding_terms}')\n",
        "\n",
        "    expanded_query = list(set(query_tokens + feedback_terms + synonym_terms + embedding_terms))\n",
        "    return expanded_query\n",
        "\n",
        "# Test expansion types\n",
        "test_query = 'aerodynamics wing'\n",
        "for exp_type in ['synonym', 'bert']:\n",
        "    print(f'\\nTesting {exp_type.upper()} expansion:')\n",
        "    expanded_tokens = expand_query(test_query, index, df, expansion_type=exp_type)\n",
        "    print(f'Expanded query: {expanded_tokens}')"
      ]
    },
    {
      "cell_type": "code",
      "execution_count": null,
      "metadata": {
        "colab": {
          "base_uri": "https://localhost:8080/"
        },
        "id": "phase_3_search_with_expansion",
        "outputId": "b57b4683-c7b8-48e6-dac0-01776d75abce"
      },
      "outputs": [],
      "source": [
        "def search_with_expansion(query, index, df, expansion_type='bert', top_k=5):\n",
        "    print(f'\\n=== Searching for \"{query}\" with {expansion_type.upper()} expansion ===')\n",
        "    original_query_tokens = preprocess_query(query)\n",
        "    query_tokens = expand_query(query, index, df, expansion_type=expansion_type)\n",
        "    print(f'Using query tokens: {query_tokens}')\n",
        "\n",
        "    documents = retrieve_documents(query_tokens, index, df)\n",
        "    if not documents:\n",
        "        print('No documents found.')\n",
        "        return []\n",
        "    print(f'Found {len(documents)} documents.')\n",
        "\n",
        "    ranked_docs = rank_documents(documents, query_tokens, original_query_tokens=original_query_tokens)\n",
        "\n",
        "    print(f'Top {min(top_k, len(ranked_docs))} results:')\n",
        "    for i, doc in enumerate(ranked_docs[:top_k], 1):\n",
        "        print(f'{i}. Docno: {doc[\"docno\"]}, Title: {doc[\"title\"]}, TF-IDF Score: {doc[\"tfidf_score\"]:.4f}')\n",
        "\n",
        "    return ranked_docs\n",
        "\n",
        "# Test\n",
        "search_with_expansion('aerodynamics wing', index, df, expansion_type='bert')"
      ]
    },
    {
      "cell_type": "code",
      "execution_count": null,
      "metadata": {
        "colab": {
          "base_uri": "https://localhost:8080/"
        },
        "id": "phase_3_interface_function",
        "outputId": "639b4144-6033-4007-d37d-d7918e7c26ff"
      },
      "outputs": [],
      "source": [
        "def search_query_interface(query, expansion_type):\n",
        "    expansion_map = {'Synonym': 'synonym', 'BERT': 'bert'}\n",
        "    exp_type = expansion_map.get(expansion_type, 'bert')\n",
        "    results = search_with_expansion(query, index, df, expansion_type=exp_type, top_k=10)\n",
        "    if not results:\n",
        "        return {'results': []}\n",
        "    output = [\n",
        "        {'docno': doc['docno'], 'title': doc['title'], 'tfidf_score': round(doc['tfidf_score'], 4)}\n",
        "        for doc in results\n",
        "    ]\n",
        "    return {'results': output}\n",
        "\n",
        "# Test interface\n",
        "test_result = search_query_interface('aerodynamics wing', 'BERT')\n",
        "print('Interface test output:', test_result)"
      ]
    },
    {
      "cell_type": "code",
      "execution_count": null,
      "metadata": {
        "colab": {
          "base_uri": "https://localhost:8080/",
          "height": 704
        },
        "id": "BeZzrsB34Yb3",
        "outputId": "b7944c2e-0d3e-423b-bde8-cb4789c1e775"
      },
      "outputs": [],
      "source": [
        "gr.Interface(\n",
        "     fn=search_query_interface,\n",
        "     inputs=[\n",
        "         gr.Textbox(label='Enter your query', placeholder='e.g., aerodynamics wing'),\n",
        "         gr.Dropdown(choices=['Synonym', 'BERT'], label='Expansion Type', value='BERT')\n",
        "     ],\n",
        "     outputs=gr.JSON(label='Search Results'),\n",
        "     title='Cranfield Search Engine',\n",
        "     description='Search the Cranfield dataset with query expansion.'\n",
        " ).launch()"
      ]
    },
    {
      "cell_type": "code",
      "execution_count": null,
      "metadata": {
        "colab": {
          "base_uri": "https://localhost:8080/"
        },
        "id": "phase_3_evaluate",
        "outputId": "0d60d054-e7c7-4e8f-fc5f-e12eb3a15905"
      },
      "outputs": [],
      "source": [
        "def evaluate_search_engine(index, df):\n",
        "    test_cases = {\n",
        "        'aerodynamics wing': ['1', '140', '141'],\n",
        "        'boundary layer': ['3', '4', '142'],\n",
        "        'information retrieval': ['440']\n",
        "    }\n",
        "    expansion_types = ['synonym', 'bert']\n",
        "    metrics = {}\n",
        "\n",
        "    for exp_type in expansion_types:\n",
        "        print(f'\\n=== Evaluating with {exp_type.upper()} expansion ===')\n",
        "        metrics[exp_type] = {}\n",
        "        for query, relevant_docnos in test_cases.items():\n",
        "            print(f'Query: \"{query}\" (Expected docnos: {relevant_docnos})')\n",
        "            results = search_with_expansion(query, index, df, expansion_type=exp_type, top_k=5)\n",
        "            retrieved_docnos = [doc['docno'] for doc in results[:5]]\n",
        "            relevant_retrieved = len(set(retrieved_docnos) & set(relevant_docnos))\n",
        "            precision = relevant_retrieved / 5 if retrieved_docnos else 0\n",
        "            metrics[exp_type][query] = {'precision@5': precision}\n",
        "            print(f'Retrieved docnos: {retrieved_docnos}')\n",
        "            print(f'Retrieved titles: {[doc[\"title\"] for doc in results[:5]]}')\n",
        "            print(f'Precision@5: {precision:.2f} ({relevant_retrieved}/5 relevant)')\n",
        "            print('Speed: Fast response for small dataset.')\n",
        "\n",
        "    return metrics\n",
        "\n",
        "# Run evaluation\n",
        "evaluation_results = evaluate_search_engine(index, df)\n",
        "print('\\nFinal Evaluation Results:', evaluation_results)"
      ]
    },
    {
      "cell_type": "code",
      "execution_count": null,
      "metadata": {},
      "outputs": [],
      "source": [
        "# def main():\n",
        "#     print(\"=== Step 1: Choose the Searching method ===\")\n",
        "#     print(\"1. Regular Indexing + Search\")\n",
        "#     print(\"2. Boolean Retreivel\")\n",
        "#     print(\"3. TF-IDF Retreivel\")\n",
        "\n",
        "#     option = int(input(\"Enter the number of the search: \"))\n",
        "    \n",
        "#     if option == 1:\n",
        "#         Regular_indexing()\n",
        "#         query = input(\"Enter your query: \")\n",
        "#         query_terms=preprocess_query(query)\n",
        "#         search_term_regular_indexing(query_terms)\n",
        "#         print(\"================Retreving the Query=================\")\n",
        "#         retrieve_documents(query_terms,df)\n",
        "        \n",
        "#     if option == 2 :\n",
        "\n",
        "#         query = input(\"Enter your the words: \")\n",
        "#         # operator=input(\"Enter the Operator {AND,OR,NOT} : \")\n",
        "#         # print(boolean_query(query, operator.upper()))\n",
        "#         boolean_search(query,df)\n",
        "#     if option ==3 : \n",
        "#         query=input(\"Enter your the words: \")\n",
        "#         search(query,df,top_k=5)\n",
        "           \n",
        "\n"
      ]
    }
  ],
  "metadata": {
    "colab": {
      "provenance": []
    },
    "kernelspec": {
      "display_name": "venv",
      "language": "python",
      "name": "python3"
    },
    "language_info": {
      "codemirror_mode": {
        "name": "ipython",
        "version": 3
      },
      "file_extension": ".py",
      "mimetype": "text/x-python",
      "name": "python",
      "nbconvert_exporter": "python",
      "pygments_lexer": "ipython3",
      "version": "3.12.7"
    },
    "widgets": {
      "application/vnd.jupyter.widget-state+json": {
        "047e67d701af4770884cc829524bc53d": {
          "model_module": "@jupyter-widgets/controls",
          "model_module_version": "1.5.0",
          "model_name": "DescriptionStyleModel",
          "state": {
            "_model_module": "@jupyter-widgets/controls",
            "_model_module_version": "1.5.0",
            "_model_name": "DescriptionStyleModel",
            "_view_count": null,
            "_view_module": "@jupyter-widgets/base",
            "_view_module_version": "1.2.0",
            "_view_name": "StyleView",
            "description_width": ""
          }
        },
        "074a2f49bd12478cb62798c6db678dcd": {
          "model_module": "@jupyter-widgets/base",
          "model_module_version": "1.2.0",
          "model_name": "LayoutModel",
          "state": {
            "_model_module": "@jupyter-widgets/base",
            "_model_module_version": "1.2.0",
            "_model_name": "LayoutModel",
            "_view_count": null,
            "_view_module": "@jupyter-widgets/base",
            "_view_module_version": "1.2.0",
            "_view_name": "LayoutView",
            "align_content": null,
            "align_items": null,
            "align_self": null,
            "border": null,
            "bottom": null,
            "display": null,
            "flex": null,
            "flex_flow": null,
            "grid_area": null,
            "grid_auto_columns": null,
            "grid_auto_flow": null,
            "grid_auto_rows": null,
            "grid_column": null,
            "grid_gap": null,
            "grid_row": null,
            "grid_template_areas": null,
            "grid_template_columns": null,
            "grid_template_rows": null,
            "height": null,
            "justify_content": null,
            "justify_items": null,
            "left": null,
            "margin": null,
            "max_height": null,
            "max_width": null,
            "min_height": null,
            "min_width": null,
            "object_fit": null,
            "object_position": null,
            "order": null,
            "overflow": null,
            "overflow_x": null,
            "overflow_y": null,
            "padding": null,
            "right": null,
            "top": null,
            "visibility": null,
            "width": null
          }
        },
        "183193bdd7cb4a4d8e6af7b687f44ddc": {
          "model_module": "@jupyter-widgets/controls",
          "model_module_version": "1.5.0",
          "model_name": "HBoxModel",
          "state": {
            "_dom_classes": [],
            "_model_module": "@jupyter-widgets/controls",
            "_model_module_version": "1.5.0",
            "_model_name": "HBoxModel",
            "_view_count": null,
            "_view_module": "@jupyter-widgets/controls",
            "_view_module_version": "1.5.0",
            "_view_name": "HBoxView",
            "box_style": "",
            "children": [
              "IPY_MODEL_d5a8feb4c23945839518077ce8abb115",
              "IPY_MODEL_3c4304a3778145fe8b8849d7a903e8f4",
              "IPY_MODEL_a5e5e3938eb4460cbd0ed37639ec1d0a"
            ],
            "layout": "IPY_MODEL_93d4d8560026424d9a962869e98cecba"
          }
        },
        "1cf2ba12082645d683b1ff87a04ef097": {
          "model_module": "@jupyter-widgets/controls",
          "model_module_version": "1.5.0",
          "model_name": "HTMLModel",
          "state": {
            "_dom_classes": [],
            "_model_module": "@jupyter-widgets/controls",
            "_model_module_version": "1.5.0",
            "_model_name": "HTMLModel",
            "_view_count": null,
            "_view_module": "@jupyter-widgets/controls",
            "_view_module_version": "1.5.0",
            "_view_name": "HTMLView",
            "description": "",
            "description_tooltip": null,
            "layout": "IPY_MODEL_6917a494cd924a589311e847284e3452",
            "placeholder": "​",
            "style": "IPY_MODEL_9b86c1ebdad84c808bda8e43baa4f912",
            "value": " 440M/440M [00:02&lt;00:00, 199MB/s]"
          }
        },
        "1f9ee91503a44bebb162f348c6603d48": {
          "model_module": "@jupyter-widgets/controls",
          "model_module_version": "1.5.0",
          "model_name": "DescriptionStyleModel",
          "state": {
            "_model_module": "@jupyter-widgets/controls",
            "_model_module_version": "1.5.0",
            "_model_name": "DescriptionStyleModel",
            "_view_count": null,
            "_view_module": "@jupyter-widgets/base",
            "_view_module_version": "1.2.0",
            "_view_name": "StyleView",
            "description_width": ""
          }
        },
        "20a6e902231a43e29ddff372f005b740": {
          "model_module": "@jupyter-widgets/base",
          "model_module_version": "1.2.0",
          "model_name": "LayoutModel",
          "state": {
            "_model_module": "@jupyter-widgets/base",
            "_model_module_version": "1.2.0",
            "_model_name": "LayoutModel",
            "_view_count": null,
            "_view_module": "@jupyter-widgets/base",
            "_view_module_version": "1.2.0",
            "_view_name": "LayoutView",
            "align_content": null,
            "align_items": null,
            "align_self": null,
            "border": null,
            "bottom": null,
            "display": null,
            "flex": null,
            "flex_flow": null,
            "grid_area": null,
            "grid_auto_columns": null,
            "grid_auto_flow": null,
            "grid_auto_rows": null,
            "grid_column": null,
            "grid_gap": null,
            "grid_row": null,
            "grid_template_areas": null,
            "grid_template_columns": null,
            "grid_template_rows": null,
            "height": null,
            "justify_content": null,
            "justify_items": null,
            "left": null,
            "margin": null,
            "max_height": null,
            "max_width": null,
            "min_height": null,
            "min_width": null,
            "object_fit": null,
            "object_position": null,
            "order": null,
            "overflow": null,
            "overflow_x": null,
            "overflow_y": null,
            "padding": null,
            "right": null,
            "top": null,
            "visibility": null,
            "width": null
          }
        },
        "27207943bf384ead9046fc8e3a0b89c2": {
          "model_module": "@jupyter-widgets/controls",
          "model_module_version": "1.5.0",
          "model_name": "DescriptionStyleModel",
          "state": {
            "_model_module": "@jupyter-widgets/controls",
            "_model_module_version": "1.5.0",
            "_model_name": "DescriptionStyleModel",
            "_view_count": null,
            "_view_module": "@jupyter-widgets/base",
            "_view_module_version": "1.2.0",
            "_view_name": "StyleView",
            "description_width": ""
          }
        },
        "286952946b274f0eb35cfcca15e4df7c": {
          "model_module": "@jupyter-widgets/controls",
          "model_module_version": "1.5.0",
          "model_name": "DescriptionStyleModel",
          "state": {
            "_model_module": "@jupyter-widgets/controls",
            "_model_module_version": "1.5.0",
            "_model_name": "DescriptionStyleModel",
            "_view_count": null,
            "_view_module": "@jupyter-widgets/base",
            "_view_module_version": "1.2.0",
            "_view_name": "StyleView",
            "description_width": ""
          }
        },
        "38717c9b550744bea8d94401d608f136": {
          "model_module": "@jupyter-widgets/controls",
          "model_module_version": "1.5.0",
          "model_name": "HTMLModel",
          "state": {
            "_dom_classes": [],
            "_model_module": "@jupyter-widgets/controls",
            "_model_module_version": "1.5.0",
            "_model_name": "HTMLModel",
            "_view_count": null,
            "_view_module": "@jupyter-widgets/controls",
            "_view_module_version": "1.5.0",
            "_view_name": "HTMLView",
            "description": "",
            "description_tooltip": null,
            "layout": "IPY_MODEL_8e40746e4f4d4e45adc5fb59735da694",
            "placeholder": "​",
            "style": "IPY_MODEL_ba44332602534a6194bc686040628e28",
            "value": "config.json: 100%"
          }
        },
        "3c4304a3778145fe8b8849d7a903e8f4": {
          "model_module": "@jupyter-widgets/controls",
          "model_module_version": "1.5.0",
          "model_name": "FloatProgressModel",
          "state": {
            "_dom_classes": [],
            "_model_module": "@jupyter-widgets/controls",
            "_model_module_version": "1.5.0",
            "_model_name": "FloatProgressModel",
            "_view_count": null,
            "_view_module": "@jupyter-widgets/controls",
            "_view_module_version": "1.5.0",
            "_view_name": "ProgressView",
            "bar_style": "success",
            "description": "",
            "description_tooltip": null,
            "layout": "IPY_MODEL_5bfef7e4d43143fd9c37d82be9b91be5",
            "max": 48,
            "min": 0,
            "orientation": "horizontal",
            "style": "IPY_MODEL_6c353e3f0b6540cf85bf12354b22f551",
            "value": 48
          }
        },
        "4084719502c8484c91f6218b17cf774a": {
          "model_module": "@jupyter-widgets/controls",
          "model_module_version": "1.5.0",
          "model_name": "HTMLModel",
          "state": {
            "_dom_classes": [],
            "_model_module": "@jupyter-widgets/controls",
            "_model_module_version": "1.5.0",
            "_model_name": "HTMLModel",
            "_view_count": null,
            "_view_module": "@jupyter-widgets/controls",
            "_view_module_version": "1.5.0",
            "_view_name": "HTMLView",
            "description": "",
            "description_tooltip": null,
            "layout": "IPY_MODEL_6cd04ea01a97417292c917ac274cd21f",
            "placeholder": "​",
            "style": "IPY_MODEL_f1ff19fbaf3f4be4a452e7c0b5cfc30c",
            "value": "tokenizer.json: 100%"
          }
        },
        "41f0baaea3f74b77b41e2450549be222": {
          "model_module": "@jupyter-widgets/controls",
          "model_module_version": "1.5.0",
          "model_name": "ProgressStyleModel",
          "state": {
            "_model_module": "@jupyter-widgets/controls",
            "_model_module_version": "1.5.0",
            "_model_name": "ProgressStyleModel",
            "_view_count": null,
            "_view_module": "@jupyter-widgets/base",
            "_view_module_version": "1.2.0",
            "_view_name": "StyleView",
            "bar_color": null,
            "description_width": ""
          }
        },
        "4673088292d646edb02199917e84c3b4": {
          "model_module": "@jupyter-widgets/controls",
          "model_module_version": "1.5.0",
          "model_name": "ProgressStyleModel",
          "state": {
            "_model_module": "@jupyter-widgets/controls",
            "_model_module_version": "1.5.0",
            "_model_name": "ProgressStyleModel",
            "_view_count": null,
            "_view_module": "@jupyter-widgets/base",
            "_view_module_version": "1.2.0",
            "_view_name": "StyleView",
            "bar_color": null,
            "description_width": ""
          }
        },
        "482c50ddbee04f9db3b27fe47d2ca4de": {
          "model_module": "@jupyter-widgets/base",
          "model_module_version": "1.2.0",
          "model_name": "LayoutModel",
          "state": {
            "_model_module": "@jupyter-widgets/base",
            "_model_module_version": "1.2.0",
            "_model_name": "LayoutModel",
            "_view_count": null,
            "_view_module": "@jupyter-widgets/base",
            "_view_module_version": "1.2.0",
            "_view_name": "LayoutView",
            "align_content": null,
            "align_items": null,
            "align_self": null,
            "border": null,
            "bottom": null,
            "display": null,
            "flex": null,
            "flex_flow": null,
            "grid_area": null,
            "grid_auto_columns": null,
            "grid_auto_flow": null,
            "grid_auto_rows": null,
            "grid_column": null,
            "grid_gap": null,
            "grid_row": null,
            "grid_template_areas": null,
            "grid_template_columns": null,
            "grid_template_rows": null,
            "height": null,
            "justify_content": null,
            "justify_items": null,
            "left": null,
            "margin": null,
            "max_height": null,
            "max_width": null,
            "min_height": null,
            "min_width": null,
            "object_fit": null,
            "object_position": null,
            "order": null,
            "overflow": null,
            "overflow_x": null,
            "overflow_y": null,
            "padding": null,
            "right": null,
            "top": null,
            "visibility": null,
            "width": null
          }
        },
        "5bfef7e4d43143fd9c37d82be9b91be5": {
          "model_module": "@jupyter-widgets/base",
          "model_module_version": "1.2.0",
          "model_name": "LayoutModel",
          "state": {
            "_model_module": "@jupyter-widgets/base",
            "_model_module_version": "1.2.0",
            "_model_name": "LayoutModel",
            "_view_count": null,
            "_view_module": "@jupyter-widgets/base",
            "_view_module_version": "1.2.0",
            "_view_name": "LayoutView",
            "align_content": null,
            "align_items": null,
            "align_self": null,
            "border": null,
            "bottom": null,
            "display": null,
            "flex": null,
            "flex_flow": null,
            "grid_area": null,
            "grid_auto_columns": null,
            "grid_auto_flow": null,
            "grid_auto_rows": null,
            "grid_column": null,
            "grid_gap": null,
            "grid_row": null,
            "grid_template_areas": null,
            "grid_template_columns": null,
            "grid_template_rows": null,
            "height": null,
            "justify_content": null,
            "justify_items": null,
            "left": null,
            "margin": null,
            "max_height": null,
            "max_width": null,
            "min_height": null,
            "min_width": null,
            "object_fit": null,
            "object_position": null,
            "order": null,
            "overflow": null,
            "overflow_x": null,
            "overflow_y": null,
            "padding": null,
            "right": null,
            "top": null,
            "visibility": null,
            "width": null
          }
        },
        "5d105c12097e461f8f1e9a390d055110": {
          "model_module": "@jupyter-widgets/base",
          "model_module_version": "1.2.0",
          "model_name": "LayoutModel",
          "state": {
            "_model_module": "@jupyter-widgets/base",
            "_model_module_version": "1.2.0",
            "_model_name": "LayoutModel",
            "_view_count": null,
            "_view_module": "@jupyter-widgets/base",
            "_view_module_version": "1.2.0",
            "_view_name": "LayoutView",
            "align_content": null,
            "align_items": null,
            "align_self": null,
            "border": null,
            "bottom": null,
            "display": null,
            "flex": null,
            "flex_flow": null,
            "grid_area": null,
            "grid_auto_columns": null,
            "grid_auto_flow": null,
            "grid_auto_rows": null,
            "grid_column": null,
            "grid_gap": null,
            "grid_row": null,
            "grid_template_areas": null,
            "grid_template_columns": null,
            "grid_template_rows": null,
            "height": null,
            "justify_content": null,
            "justify_items": null,
            "left": null,
            "margin": null,
            "max_height": null,
            "max_width": null,
            "min_height": null,
            "min_width": null,
            "object_fit": null,
            "object_position": null,
            "order": null,
            "overflow": null,
            "overflow_x": null,
            "overflow_y": null,
            "padding": null,
            "right": null,
            "top": null,
            "visibility": null,
            "width": null
          }
        },
        "6917a494cd924a589311e847284e3452": {
          "model_module": "@jupyter-widgets/base",
          "model_module_version": "1.2.0",
          "model_name": "LayoutModel",
          "state": {
            "_model_module": "@jupyter-widgets/base",
            "_model_module_version": "1.2.0",
            "_model_name": "LayoutModel",
            "_view_count": null,
            "_view_module": "@jupyter-widgets/base",
            "_view_module_version": "1.2.0",
            "_view_name": "LayoutView",
            "align_content": null,
            "align_items": null,
            "align_self": null,
            "border": null,
            "bottom": null,
            "display": null,
            "flex": null,
            "flex_flow": null,
            "grid_area": null,
            "grid_auto_columns": null,
            "grid_auto_flow": null,
            "grid_auto_rows": null,
            "grid_column": null,
            "grid_gap": null,
            "grid_row": null,
            "grid_template_areas": null,
            "grid_template_columns": null,
            "grid_template_rows": null,
            "height": null,
            "justify_content": null,
            "justify_items": null,
            "left": null,
            "margin": null,
            "max_height": null,
            "max_width": null,
            "min_height": null,
            "min_width": null,
            "object_fit": null,
            "object_position": null,
            "order": null,
            "overflow": null,
            "overflow_x": null,
            "overflow_y": null,
            "padding": null,
            "right": null,
            "top": null,
            "visibility": null,
            "width": null
          }
        },
        "6b5fd1d10d9e4426984b5fc2d5a60e39": {
          "model_module": "@jupyter-widgets/base",
          "model_module_version": "1.2.0",
          "model_name": "LayoutModel",
          "state": {
            "_model_module": "@jupyter-widgets/base",
            "_model_module_version": "1.2.0",
            "_model_name": "LayoutModel",
            "_view_count": null,
            "_view_module": "@jupyter-widgets/base",
            "_view_module_version": "1.2.0",
            "_view_name": "LayoutView",
            "align_content": null,
            "align_items": null,
            "align_self": null,
            "border": null,
            "bottom": null,
            "display": null,
            "flex": null,
            "flex_flow": null,
            "grid_area": null,
            "grid_auto_columns": null,
            "grid_auto_flow": null,
            "grid_auto_rows": null,
            "grid_column": null,
            "grid_gap": null,
            "grid_row": null,
            "grid_template_areas": null,
            "grid_template_columns": null,
            "grid_template_rows": null,
            "height": null,
            "justify_content": null,
            "justify_items": null,
            "left": null,
            "margin": null,
            "max_height": null,
            "max_width": null,
            "min_height": null,
            "min_width": null,
            "object_fit": null,
            "object_position": null,
            "order": null,
            "overflow": null,
            "overflow_x": null,
            "overflow_y": null,
            "padding": null,
            "right": null,
            "top": null,
            "visibility": null,
            "width": null
          }
        },
        "6c353e3f0b6540cf85bf12354b22f551": {
          "model_module": "@jupyter-widgets/controls",
          "model_module_version": "1.5.0",
          "model_name": "ProgressStyleModel",
          "state": {
            "_model_module": "@jupyter-widgets/controls",
            "_model_module_version": "1.5.0",
            "_model_name": "ProgressStyleModel",
            "_view_count": null,
            "_view_module": "@jupyter-widgets/base",
            "_view_module_version": "1.2.0",
            "_view_name": "StyleView",
            "bar_color": null,
            "description_width": ""
          }
        },
        "6cd04ea01a97417292c917ac274cd21f": {
          "model_module": "@jupyter-widgets/base",
          "model_module_version": "1.2.0",
          "model_name": "LayoutModel",
          "state": {
            "_model_module": "@jupyter-widgets/base",
            "_model_module_version": "1.2.0",
            "_model_name": "LayoutModel",
            "_view_count": null,
            "_view_module": "@jupyter-widgets/base",
            "_view_module_version": "1.2.0",
            "_view_name": "LayoutView",
            "align_content": null,
            "align_items": null,
            "align_self": null,
            "border": null,
            "bottom": null,
            "display": null,
            "flex": null,
            "flex_flow": null,
            "grid_area": null,
            "grid_auto_columns": null,
            "grid_auto_flow": null,
            "grid_auto_rows": null,
            "grid_column": null,
            "grid_gap": null,
            "grid_row": null,
            "grid_template_areas": null,
            "grid_template_columns": null,
            "grid_template_rows": null,
            "height": null,
            "justify_content": null,
            "justify_items": null,
            "left": null,
            "margin": null,
            "max_height": null,
            "max_width": null,
            "min_height": null,
            "min_width": null,
            "object_fit": null,
            "object_position": null,
            "order": null,
            "overflow": null,
            "overflow_x": null,
            "overflow_y": null,
            "padding": null,
            "right": null,
            "top": null,
            "visibility": null,
            "width": null
          }
        },
        "6dce583bf9c04a1b8299f665a1c6186d": {
          "model_module": "@jupyter-widgets/controls",
          "model_module_version": "1.5.0",
          "model_name": "HBoxModel",
          "state": {
            "_dom_classes": [],
            "_model_module": "@jupyter-widgets/controls",
            "_model_module_version": "1.5.0",
            "_model_name": "HBoxModel",
            "_view_count": null,
            "_view_module": "@jupyter-widgets/controls",
            "_view_module_version": "1.5.0",
            "_view_name": "HBoxView",
            "box_style": "",
            "children": [
              "IPY_MODEL_38717c9b550744bea8d94401d608f136",
              "IPY_MODEL_a545d779191d4c60961c293049780d01",
              "IPY_MODEL_75c82fcbee67477a88820925421b1ff6"
            ],
            "layout": "IPY_MODEL_a438cbbd2142414282050a981886f953"
          }
        },
        "75c82fcbee67477a88820925421b1ff6": {
          "model_module": "@jupyter-widgets/controls",
          "model_module_version": "1.5.0",
          "model_name": "HTMLModel",
          "state": {
            "_dom_classes": [],
            "_model_module": "@jupyter-widgets/controls",
            "_model_module_version": "1.5.0",
            "_model_name": "HTMLModel",
            "_view_count": null,
            "_view_module": "@jupyter-widgets/controls",
            "_view_module_version": "1.5.0",
            "_view_name": "HTMLView",
            "description": "",
            "description_tooltip": null,
            "layout": "IPY_MODEL_6b5fd1d10d9e4426984b5fc2d5a60e39",
            "placeholder": "​",
            "style": "IPY_MODEL_047e67d701af4770884cc829524bc53d",
            "value": " 570/570 [00:00&lt;00:00, 11.6kB/s]"
          }
        },
        "8e40746e4f4d4e45adc5fb59735da694": {
          "model_module": "@jupyter-widgets/base",
          "model_module_version": "1.2.0",
          "model_name": "LayoutModel",
          "state": {
            "_model_module": "@jupyter-widgets/base",
            "_model_module_version": "1.2.0",
            "_model_name": "LayoutModel",
            "_view_count": null,
            "_view_module": "@jupyter-widgets/base",
            "_view_module_version": "1.2.0",
            "_view_name": "LayoutView",
            "align_content": null,
            "align_items": null,
            "align_self": null,
            "border": null,
            "bottom": null,
            "display": null,
            "flex": null,
            "flex_flow": null,
            "grid_area": null,
            "grid_auto_columns": null,
            "grid_auto_flow": null,
            "grid_auto_rows": null,
            "grid_column": null,
            "grid_gap": null,
            "grid_row": null,
            "grid_template_areas": null,
            "grid_template_columns": null,
            "grid_template_rows": null,
            "height": null,
            "justify_content": null,
            "justify_items": null,
            "left": null,
            "margin": null,
            "max_height": null,
            "max_width": null,
            "min_height": null,
            "min_width": null,
            "object_fit": null,
            "object_position": null,
            "order": null,
            "overflow": null,
            "overflow_x": null,
            "overflow_y": null,
            "padding": null,
            "right": null,
            "top": null,
            "visibility": null,
            "width": null
          }
        },
        "928f19518b4a4b5caa06a0297a0d1178": {
          "model_module": "@jupyter-widgets/base",
          "model_module_version": "1.2.0",
          "model_name": "LayoutModel",
          "state": {
            "_model_module": "@jupyter-widgets/base",
            "_model_module_version": "1.2.0",
            "_model_name": "LayoutModel",
            "_view_count": null,
            "_view_module": "@jupyter-widgets/base",
            "_view_module_version": "1.2.0",
            "_view_name": "LayoutView",
            "align_content": null,
            "align_items": null,
            "align_self": null,
            "border": null,
            "bottom": null,
            "display": null,
            "flex": null,
            "flex_flow": null,
            "grid_area": null,
            "grid_auto_columns": null,
            "grid_auto_flow": null,
            "grid_auto_rows": null,
            "grid_column": null,
            "grid_gap": null,
            "grid_row": null,
            "grid_template_areas": null,
            "grid_template_columns": null,
            "grid_template_rows": null,
            "height": null,
            "justify_content": null,
            "justify_items": null,
            "left": null,
            "margin": null,
            "max_height": null,
            "max_width": null,
            "min_height": null,
            "min_width": null,
            "object_fit": null,
            "object_position": null,
            "order": null,
            "overflow": null,
            "overflow_x": null,
            "overflow_y": null,
            "padding": null,
            "right": null,
            "top": null,
            "visibility": null,
            "width": null
          }
        },
        "93d4d8560026424d9a962869e98cecba": {
          "model_module": "@jupyter-widgets/base",
          "model_module_version": "1.2.0",
          "model_name": "LayoutModel",
          "state": {
            "_model_module": "@jupyter-widgets/base",
            "_model_module_version": "1.2.0",
            "_model_name": "LayoutModel",
            "_view_count": null,
            "_view_module": "@jupyter-widgets/base",
            "_view_module_version": "1.2.0",
            "_view_name": "LayoutView",
            "align_content": null,
            "align_items": null,
            "align_self": null,
            "border": null,
            "bottom": null,
            "display": null,
            "flex": null,
            "flex_flow": null,
            "grid_area": null,
            "grid_auto_columns": null,
            "grid_auto_flow": null,
            "grid_auto_rows": null,
            "grid_column": null,
            "grid_gap": null,
            "grid_row": null,
            "grid_template_areas": null,
            "grid_template_columns": null,
            "grid_template_rows": null,
            "height": null,
            "justify_content": null,
            "justify_items": null,
            "left": null,
            "margin": null,
            "max_height": null,
            "max_width": null,
            "min_height": null,
            "min_width": null,
            "object_fit": null,
            "object_position": null,
            "order": null,
            "overflow": null,
            "overflow_x": null,
            "overflow_y": null,
            "padding": null,
            "right": null,
            "top": null,
            "visibility": null,
            "width": null
          }
        },
        "97acec061ede4cce8985921c6b959b22": {
          "model_module": "@jupyter-widgets/base",
          "model_module_version": "1.2.0",
          "model_name": "LayoutModel",
          "state": {
            "_model_module": "@jupyter-widgets/base",
            "_model_module_version": "1.2.0",
            "_model_name": "LayoutModel",
            "_view_count": null,
            "_view_module": "@jupyter-widgets/base",
            "_view_module_version": "1.2.0",
            "_view_name": "LayoutView",
            "align_content": null,
            "align_items": null,
            "align_self": null,
            "border": null,
            "bottom": null,
            "display": null,
            "flex": null,
            "flex_flow": null,
            "grid_area": null,
            "grid_auto_columns": null,
            "grid_auto_flow": null,
            "grid_auto_rows": null,
            "grid_column": null,
            "grid_gap": null,
            "grid_row": null,
            "grid_template_areas": null,
            "grid_template_columns": null,
            "grid_template_rows": null,
            "height": null,
            "justify_content": null,
            "justify_items": null,
            "left": null,
            "margin": null,
            "max_height": null,
            "max_width": null,
            "min_height": null,
            "min_width": null,
            "object_fit": null,
            "object_position": null,
            "order": null,
            "overflow": null,
            "overflow_x": null,
            "overflow_y": null,
            "padding": null,
            "right": null,
            "top": null,
            "visibility": null,
            "width": null
          }
        },
        "99a8b9e99240497fb0e68c44a033c410": {
          "model_module": "@jupyter-widgets/controls",
          "model_module_version": "1.5.0",
          "model_name": "FloatProgressModel",
          "state": {
            "_dom_classes": [],
            "_model_module": "@jupyter-widgets/controls",
            "_model_module_version": "1.5.0",
            "_model_name": "FloatProgressModel",
            "_view_count": null,
            "_view_module": "@jupyter-widgets/controls",
            "_view_module_version": "1.5.0",
            "_view_name": "ProgressView",
            "bar_style": "success",
            "description": "",
            "description_tooltip": null,
            "layout": "IPY_MODEL_97acec061ede4cce8985921c6b959b22",
            "max": 231508,
            "min": 0,
            "orientation": "horizontal",
            "style": "IPY_MODEL_dac476acf28d458197ab1454ae1b0b4a",
            "value": 231508
          }
        },
        "9a77b533e8734234b4297a6ec2dd59df": {
          "model_module": "@jupyter-widgets/controls",
          "model_module_version": "1.5.0",
          "model_name": "HTMLModel",
          "state": {
            "_dom_classes": [],
            "_model_module": "@jupyter-widgets/controls",
            "_model_module_version": "1.5.0",
            "_model_name": "HTMLModel",
            "_view_count": null,
            "_view_module": "@jupyter-widgets/controls",
            "_view_module_version": "1.5.0",
            "_view_name": "HTMLView",
            "description": "",
            "description_tooltip": null,
            "layout": "IPY_MODEL_20a6e902231a43e29ddff372f005b740",
            "placeholder": "​",
            "style": "IPY_MODEL_c8f4ab6c99624f69bdcf79863cb1c120",
            "value": "vocab.txt: 100%"
          }
        },
        "9b7a6edda5b3474f899064d32d2c9b87": {
          "model_module": "@jupyter-widgets/controls",
          "model_module_version": "1.5.0",
          "model_name": "DescriptionStyleModel",
          "state": {
            "_model_module": "@jupyter-widgets/controls",
            "_model_module_version": "1.5.0",
            "_model_name": "DescriptionStyleModel",
            "_view_count": null,
            "_view_module": "@jupyter-widgets/base",
            "_view_module_version": "1.2.0",
            "_view_name": "StyleView",
            "description_width": ""
          }
        },
        "9b86c1ebdad84c808bda8e43baa4f912": {
          "model_module": "@jupyter-widgets/controls",
          "model_module_version": "1.5.0",
          "model_name": "DescriptionStyleModel",
          "state": {
            "_model_module": "@jupyter-widgets/controls",
            "_model_module_version": "1.5.0",
            "_model_name": "DescriptionStyleModel",
            "_view_count": null,
            "_view_module": "@jupyter-widgets/base",
            "_view_module_version": "1.2.0",
            "_view_name": "StyleView",
            "description_width": ""
          }
        },
        "a2b3f76b10a448709695e6cde55e7654": {
          "model_module": "@jupyter-widgets/controls",
          "model_module_version": "1.5.0",
          "model_name": "DescriptionStyleModel",
          "state": {
            "_model_module": "@jupyter-widgets/controls",
            "_model_module_version": "1.5.0",
            "_model_name": "DescriptionStyleModel",
            "_view_count": null,
            "_view_module": "@jupyter-widgets/base",
            "_view_module_version": "1.2.0",
            "_view_name": "StyleView",
            "description_width": ""
          }
        },
        "a438cbbd2142414282050a981886f953": {
          "model_module": "@jupyter-widgets/base",
          "model_module_version": "1.2.0",
          "model_name": "LayoutModel",
          "state": {
            "_model_module": "@jupyter-widgets/base",
            "_model_module_version": "1.2.0",
            "_model_name": "LayoutModel",
            "_view_count": null,
            "_view_module": "@jupyter-widgets/base",
            "_view_module_version": "1.2.0",
            "_view_name": "LayoutView",
            "align_content": null,
            "align_items": null,
            "align_self": null,
            "border": null,
            "bottom": null,
            "display": null,
            "flex": null,
            "flex_flow": null,
            "grid_area": null,
            "grid_auto_columns": null,
            "grid_auto_flow": null,
            "grid_auto_rows": null,
            "grid_column": null,
            "grid_gap": null,
            "grid_row": null,
            "grid_template_areas": null,
            "grid_template_columns": null,
            "grid_template_rows": null,
            "height": null,
            "justify_content": null,
            "justify_items": null,
            "left": null,
            "margin": null,
            "max_height": null,
            "max_width": null,
            "min_height": null,
            "min_width": null,
            "object_fit": null,
            "object_position": null,
            "order": null,
            "overflow": null,
            "overflow_x": null,
            "overflow_y": null,
            "padding": null,
            "right": null,
            "top": null,
            "visibility": null,
            "width": null
          }
        },
        "a545d779191d4c60961c293049780d01": {
          "model_module": "@jupyter-widgets/controls",
          "model_module_version": "1.5.0",
          "model_name": "FloatProgressModel",
          "state": {
            "_dom_classes": [],
            "_model_module": "@jupyter-widgets/controls",
            "_model_module_version": "1.5.0",
            "_model_name": "FloatProgressModel",
            "_view_count": null,
            "_view_module": "@jupyter-widgets/controls",
            "_view_module_version": "1.5.0",
            "_view_name": "ProgressView",
            "bar_style": "success",
            "description": "",
            "description_tooltip": null,
            "layout": "IPY_MODEL_928f19518b4a4b5caa06a0297a0d1178",
            "max": 570,
            "min": 0,
            "orientation": "horizontal",
            "style": "IPY_MODEL_ce399b8fabda4a8db8cf03a5ca879521",
            "value": 570
          }
        },
        "a5e5e3938eb4460cbd0ed37639ec1d0a": {
          "model_module": "@jupyter-widgets/controls",
          "model_module_version": "1.5.0",
          "model_name": "HTMLModel",
          "state": {
            "_dom_classes": [],
            "_model_module": "@jupyter-widgets/controls",
            "_model_module_version": "1.5.0",
            "_model_name": "HTMLModel",
            "_view_count": null,
            "_view_module": "@jupyter-widgets/controls",
            "_view_module_version": "1.5.0",
            "_view_name": "HTMLView",
            "description": "",
            "description_tooltip": null,
            "layout": "IPY_MODEL_074a2f49bd12478cb62798c6db678dcd",
            "placeholder": "​",
            "style": "IPY_MODEL_286952946b274f0eb35cfcca15e4df7c",
            "value": " 48.0/48.0 [00:00&lt;00:00, 687B/s]"
          }
        },
        "b1661d5f162d4b5c9dc37a7683670b35": {
          "model_module": "@jupyter-widgets/controls",
          "model_module_version": "1.5.0",
          "model_name": "FloatProgressModel",
          "state": {
            "_dom_classes": [],
            "_model_module": "@jupyter-widgets/controls",
            "_model_module_version": "1.5.0",
            "_model_name": "FloatProgressModel",
            "_view_count": null,
            "_view_module": "@jupyter-widgets/controls",
            "_view_module_version": "1.5.0",
            "_view_name": "ProgressView",
            "bar_style": "success",
            "description": "",
            "description_tooltip": null,
            "layout": "IPY_MODEL_d6c29340c50f4e0db9769420c1d0cafd",
            "max": 440449768,
            "min": 0,
            "orientation": "horizontal",
            "style": "IPY_MODEL_41f0baaea3f74b77b41e2450549be222",
            "value": 440449768
          }
        },
        "b82aff1b08c24fe0999cf9ea52079d53": {
          "model_module": "@jupyter-widgets/controls",
          "model_module_version": "1.5.0",
          "model_name": "HTMLModel",
          "state": {
            "_dom_classes": [],
            "_model_module": "@jupyter-widgets/controls",
            "_model_module_version": "1.5.0",
            "_model_name": "HTMLModel",
            "_view_count": null,
            "_view_module": "@jupyter-widgets/controls",
            "_view_module_version": "1.5.0",
            "_view_name": "HTMLView",
            "description": "",
            "description_tooltip": null,
            "layout": "IPY_MODEL_f1a23f6ab6ce41ecbfd95a7fb35f42c4",
            "placeholder": "​",
            "style": "IPY_MODEL_27207943bf384ead9046fc8e3a0b89c2",
            "value": " 466k/466k [00:00&lt;00:00, 2.78MB/s]"
          }
        },
        "ba44332602534a6194bc686040628e28": {
          "model_module": "@jupyter-widgets/controls",
          "model_module_version": "1.5.0",
          "model_name": "DescriptionStyleModel",
          "state": {
            "_model_module": "@jupyter-widgets/controls",
            "_model_module_version": "1.5.0",
            "_model_name": "DescriptionStyleModel",
            "_view_count": null,
            "_view_module": "@jupyter-widgets/base",
            "_view_module_version": "1.2.0",
            "_view_name": "StyleView",
            "description_width": ""
          }
        },
        "c5e93da51f414b7c97e5e3dafbc45ae1": {
          "model_module": "@jupyter-widgets/controls",
          "model_module_version": "1.5.0",
          "model_name": "HTMLModel",
          "state": {
            "_dom_classes": [],
            "_model_module": "@jupyter-widgets/controls",
            "_model_module_version": "1.5.0",
            "_model_name": "HTMLModel",
            "_view_count": null,
            "_view_module": "@jupyter-widgets/controls",
            "_view_module_version": "1.5.0",
            "_view_name": "HTMLView",
            "description": "",
            "description_tooltip": null,
            "layout": "IPY_MODEL_c6c9747105134466ab191c92bd74d0ad",
            "placeholder": "​",
            "style": "IPY_MODEL_1f9ee91503a44bebb162f348c6603d48",
            "value": "model.safetensors: 100%"
          }
        },
        "c6c9747105134466ab191c92bd74d0ad": {
          "model_module": "@jupyter-widgets/base",
          "model_module_version": "1.2.0",
          "model_name": "LayoutModel",
          "state": {
            "_model_module": "@jupyter-widgets/base",
            "_model_module_version": "1.2.0",
            "_model_name": "LayoutModel",
            "_view_count": null,
            "_view_module": "@jupyter-widgets/base",
            "_view_module_version": "1.2.0",
            "_view_name": "LayoutView",
            "align_content": null,
            "align_items": null,
            "align_self": null,
            "border": null,
            "bottom": null,
            "display": null,
            "flex": null,
            "flex_flow": null,
            "grid_area": null,
            "grid_auto_columns": null,
            "grid_auto_flow": null,
            "grid_auto_rows": null,
            "grid_column": null,
            "grid_gap": null,
            "grid_row": null,
            "grid_template_areas": null,
            "grid_template_columns": null,
            "grid_template_rows": null,
            "height": null,
            "justify_content": null,
            "justify_items": null,
            "left": null,
            "margin": null,
            "max_height": null,
            "max_width": null,
            "min_height": null,
            "min_width": null,
            "object_fit": null,
            "object_position": null,
            "order": null,
            "overflow": null,
            "overflow_x": null,
            "overflow_y": null,
            "padding": null,
            "right": null,
            "top": null,
            "visibility": null,
            "width": null
          }
        },
        "c8f4ab6c99624f69bdcf79863cb1c120": {
          "model_module": "@jupyter-widgets/controls",
          "model_module_version": "1.5.0",
          "model_name": "DescriptionStyleModel",
          "state": {
            "_model_module": "@jupyter-widgets/controls",
            "_model_module_version": "1.5.0",
            "_model_name": "DescriptionStyleModel",
            "_view_count": null,
            "_view_module": "@jupyter-widgets/base",
            "_view_module_version": "1.2.0",
            "_view_name": "StyleView",
            "description_width": ""
          }
        },
        "ce399b8fabda4a8db8cf03a5ca879521": {
          "model_module": "@jupyter-widgets/controls",
          "model_module_version": "1.5.0",
          "model_name": "ProgressStyleModel",
          "state": {
            "_model_module": "@jupyter-widgets/controls",
            "_model_module_version": "1.5.0",
            "_model_name": "ProgressStyleModel",
            "_view_count": null,
            "_view_module": "@jupyter-widgets/base",
            "_view_module_version": "1.2.0",
            "_view_name": "StyleView",
            "bar_color": null,
            "description_width": ""
          }
        },
        "d5a8feb4c23945839518077ce8abb115": {
          "model_module": "@jupyter-widgets/controls",
          "model_module_version": "1.5.0",
          "model_name": "HTMLModel",
          "state": {
            "_dom_classes": [],
            "_model_module": "@jupyter-widgets/controls",
            "_model_module_version": "1.5.0",
            "_model_name": "HTMLModel",
            "_view_count": null,
            "_view_module": "@jupyter-widgets/controls",
            "_view_module_version": "1.5.0",
            "_view_name": "HTMLView",
            "description": "",
            "description_tooltip": null,
            "layout": "IPY_MODEL_faae605243424c5ca7aeb728d09bb54a",
            "placeholder": "​",
            "style": "IPY_MODEL_9b7a6edda5b3474f899064d32d2c9b87",
            "value": "tokenizer_config.json: 100%"
          }
        },
        "d6c29340c50f4e0db9769420c1d0cafd": {
          "model_module": "@jupyter-widgets/base",
          "model_module_version": "1.2.0",
          "model_name": "LayoutModel",
          "state": {
            "_model_module": "@jupyter-widgets/base",
            "_model_module_version": "1.2.0",
            "_model_name": "LayoutModel",
            "_view_count": null,
            "_view_module": "@jupyter-widgets/base",
            "_view_module_version": "1.2.0",
            "_view_name": "LayoutView",
            "align_content": null,
            "align_items": null,
            "align_self": null,
            "border": null,
            "bottom": null,
            "display": null,
            "flex": null,
            "flex_flow": null,
            "grid_area": null,
            "grid_auto_columns": null,
            "grid_auto_flow": null,
            "grid_auto_rows": null,
            "grid_column": null,
            "grid_gap": null,
            "grid_row": null,
            "grid_template_areas": null,
            "grid_template_columns": null,
            "grid_template_rows": null,
            "height": null,
            "justify_content": null,
            "justify_items": null,
            "left": null,
            "margin": null,
            "max_height": null,
            "max_width": null,
            "min_height": null,
            "min_width": null,
            "object_fit": null,
            "object_position": null,
            "order": null,
            "overflow": null,
            "overflow_x": null,
            "overflow_y": null,
            "padding": null,
            "right": null,
            "top": null,
            "visibility": null,
            "width": null
          }
        },
        "d7d28247ddbb41b49b8d5b1afd7ff032": {
          "model_module": "@jupyter-widgets/base",
          "model_module_version": "1.2.0",
          "model_name": "LayoutModel",
          "state": {
            "_model_module": "@jupyter-widgets/base",
            "_model_module_version": "1.2.0",
            "_model_name": "LayoutModel",
            "_view_count": null,
            "_view_module": "@jupyter-widgets/base",
            "_view_module_version": "1.2.0",
            "_view_name": "LayoutView",
            "align_content": null,
            "align_items": null,
            "align_self": null,
            "border": null,
            "bottom": null,
            "display": null,
            "flex": null,
            "flex_flow": null,
            "grid_area": null,
            "grid_auto_columns": null,
            "grid_auto_flow": null,
            "grid_auto_rows": null,
            "grid_column": null,
            "grid_gap": null,
            "grid_row": null,
            "grid_template_areas": null,
            "grid_template_columns": null,
            "grid_template_rows": null,
            "height": null,
            "justify_content": null,
            "justify_items": null,
            "left": null,
            "margin": null,
            "max_height": null,
            "max_width": null,
            "min_height": null,
            "min_width": null,
            "object_fit": null,
            "object_position": null,
            "order": null,
            "overflow": null,
            "overflow_x": null,
            "overflow_y": null,
            "padding": null,
            "right": null,
            "top": null,
            "visibility": null,
            "width": null
          }
        },
        "dac476acf28d458197ab1454ae1b0b4a": {
          "model_module": "@jupyter-widgets/controls",
          "model_module_version": "1.5.0",
          "model_name": "ProgressStyleModel",
          "state": {
            "_model_module": "@jupyter-widgets/controls",
            "_model_module_version": "1.5.0",
            "_model_name": "ProgressStyleModel",
            "_view_count": null,
            "_view_module": "@jupyter-widgets/base",
            "_view_module_version": "1.2.0",
            "_view_name": "StyleView",
            "bar_color": null,
            "description_width": ""
          }
        },
        "df9a102ca78746d08c24bf49782b0f1a": {
          "model_module": "@jupyter-widgets/controls",
          "model_module_version": "1.5.0",
          "model_name": "HBoxModel",
          "state": {
            "_dom_classes": [],
            "_model_module": "@jupyter-widgets/controls",
            "_model_module_version": "1.5.0",
            "_model_name": "HBoxModel",
            "_view_count": null,
            "_view_module": "@jupyter-widgets/controls",
            "_view_module_version": "1.5.0",
            "_view_name": "HBoxView",
            "box_style": "",
            "children": [
              "IPY_MODEL_c5e93da51f414b7c97e5e3dafbc45ae1",
              "IPY_MODEL_b1661d5f162d4b5c9dc37a7683670b35",
              "IPY_MODEL_1cf2ba12082645d683b1ff87a04ef097"
            ],
            "layout": "IPY_MODEL_5d105c12097e461f8f1e9a390d055110"
          }
        },
        "e803911c5e0d41f280548fea188b457d": {
          "model_module": "@jupyter-widgets/base",
          "model_module_version": "1.2.0",
          "model_name": "LayoutModel",
          "state": {
            "_model_module": "@jupyter-widgets/base",
            "_model_module_version": "1.2.0",
            "_model_name": "LayoutModel",
            "_view_count": null,
            "_view_module": "@jupyter-widgets/base",
            "_view_module_version": "1.2.0",
            "_view_name": "LayoutView",
            "align_content": null,
            "align_items": null,
            "align_self": null,
            "border": null,
            "bottom": null,
            "display": null,
            "flex": null,
            "flex_flow": null,
            "grid_area": null,
            "grid_auto_columns": null,
            "grid_auto_flow": null,
            "grid_auto_rows": null,
            "grid_column": null,
            "grid_gap": null,
            "grid_row": null,
            "grid_template_areas": null,
            "grid_template_columns": null,
            "grid_template_rows": null,
            "height": null,
            "justify_content": null,
            "justify_items": null,
            "left": null,
            "margin": null,
            "max_height": null,
            "max_width": null,
            "min_height": null,
            "min_width": null,
            "object_fit": null,
            "object_position": null,
            "order": null,
            "overflow": null,
            "overflow_x": null,
            "overflow_y": null,
            "padding": null,
            "right": null,
            "top": null,
            "visibility": null,
            "width": null
          }
        },
        "e9629eb3833b4f2c9d09ca85ec9ffa08": {
          "model_module": "@jupyter-widgets/controls",
          "model_module_version": "1.5.0",
          "model_name": "FloatProgressModel",
          "state": {
            "_dom_classes": [],
            "_model_module": "@jupyter-widgets/controls",
            "_model_module_version": "1.5.0",
            "_model_name": "FloatProgressModel",
            "_view_count": null,
            "_view_module": "@jupyter-widgets/controls",
            "_view_module_version": "1.5.0",
            "_view_name": "ProgressView",
            "bar_style": "success",
            "description": "",
            "description_tooltip": null,
            "layout": "IPY_MODEL_d7d28247ddbb41b49b8d5b1afd7ff032",
            "max": 466062,
            "min": 0,
            "orientation": "horizontal",
            "style": "IPY_MODEL_4673088292d646edb02199917e84c3b4",
            "value": 466062
          }
        },
        "e9d60080a7ac4605a65f69323ef18a1e": {
          "model_module": "@jupyter-widgets/controls",
          "model_module_version": "1.5.0",
          "model_name": "HBoxModel",
          "state": {
            "_dom_classes": [],
            "_model_module": "@jupyter-widgets/controls",
            "_model_module_version": "1.5.0",
            "_model_name": "HBoxModel",
            "_view_count": null,
            "_view_module": "@jupyter-widgets/controls",
            "_view_module_version": "1.5.0",
            "_view_name": "HBoxView",
            "box_style": "",
            "children": [
              "IPY_MODEL_9a77b533e8734234b4297a6ec2dd59df",
              "IPY_MODEL_99a8b9e99240497fb0e68c44a033c410",
              "IPY_MODEL_ee15152da205462e86f3e26abd7eab24"
            ],
            "layout": "IPY_MODEL_ff3df5daa0c749d2a5670fc047960898"
          }
        },
        "ee15152da205462e86f3e26abd7eab24": {
          "model_module": "@jupyter-widgets/controls",
          "model_module_version": "1.5.0",
          "model_name": "HTMLModel",
          "state": {
            "_dom_classes": [],
            "_model_module": "@jupyter-widgets/controls",
            "_model_module_version": "1.5.0",
            "_model_name": "HTMLModel",
            "_view_count": null,
            "_view_module": "@jupyter-widgets/controls",
            "_view_module_version": "1.5.0",
            "_view_name": "HTMLView",
            "description": "",
            "description_tooltip": null,
            "layout": "IPY_MODEL_482c50ddbee04f9db3b27fe47d2ca4de",
            "placeholder": "​",
            "style": "IPY_MODEL_a2b3f76b10a448709695e6cde55e7654",
            "value": " 232k/232k [00:00&lt;00:00, 4.48MB/s]"
          }
        },
        "f1a23f6ab6ce41ecbfd95a7fb35f42c4": {
          "model_module": "@jupyter-widgets/base",
          "model_module_version": "1.2.0",
          "model_name": "LayoutModel",
          "state": {
            "_model_module": "@jupyter-widgets/base",
            "_model_module_version": "1.2.0",
            "_model_name": "LayoutModel",
            "_view_count": null,
            "_view_module": "@jupyter-widgets/base",
            "_view_module_version": "1.2.0",
            "_view_name": "LayoutView",
            "align_content": null,
            "align_items": null,
            "align_self": null,
            "border": null,
            "bottom": null,
            "display": null,
            "flex": null,
            "flex_flow": null,
            "grid_area": null,
            "grid_auto_columns": null,
            "grid_auto_flow": null,
            "grid_auto_rows": null,
            "grid_column": null,
            "grid_gap": null,
            "grid_row": null,
            "grid_template_areas": null,
            "grid_template_columns": null,
            "grid_template_rows": null,
            "height": null,
            "justify_content": null,
            "justify_items": null,
            "left": null,
            "margin": null,
            "max_height": null,
            "max_width": null,
            "min_height": null,
            "min_width": null,
            "object_fit": null,
            "object_position": null,
            "order": null,
            "overflow": null,
            "overflow_x": null,
            "overflow_y": null,
            "padding": null,
            "right": null,
            "top": null,
            "visibility": null,
            "width": null
          }
        },
        "f1ff19fbaf3f4be4a452e7c0b5cfc30c": {
          "model_module": "@jupyter-widgets/controls",
          "model_module_version": "1.5.0",
          "model_name": "DescriptionStyleModel",
          "state": {
            "_model_module": "@jupyter-widgets/controls",
            "_model_module_version": "1.5.0",
            "_model_name": "DescriptionStyleModel",
            "_view_count": null,
            "_view_module": "@jupyter-widgets/base",
            "_view_module_version": "1.2.0",
            "_view_name": "StyleView",
            "description_width": ""
          }
        },
        "f24bf1ec39254c9c951412fd92f6c988": {
          "model_module": "@jupyter-widgets/controls",
          "model_module_version": "1.5.0",
          "model_name": "HBoxModel",
          "state": {
            "_dom_classes": [],
            "_model_module": "@jupyter-widgets/controls",
            "_model_module_version": "1.5.0",
            "_model_name": "HBoxModel",
            "_view_count": null,
            "_view_module": "@jupyter-widgets/controls",
            "_view_module_version": "1.5.0",
            "_view_name": "HBoxView",
            "box_style": "",
            "children": [
              "IPY_MODEL_4084719502c8484c91f6218b17cf774a",
              "IPY_MODEL_e9629eb3833b4f2c9d09ca85ec9ffa08",
              "IPY_MODEL_b82aff1b08c24fe0999cf9ea52079d53"
            ],
            "layout": "IPY_MODEL_e803911c5e0d41f280548fea188b457d"
          }
        },
        "faae605243424c5ca7aeb728d09bb54a": {
          "model_module": "@jupyter-widgets/base",
          "model_module_version": "1.2.0",
          "model_name": "LayoutModel",
          "state": {
            "_model_module": "@jupyter-widgets/base",
            "_model_module_version": "1.2.0",
            "_model_name": "LayoutModel",
            "_view_count": null,
            "_view_module": "@jupyter-widgets/base",
            "_view_module_version": "1.2.0",
            "_view_name": "LayoutView",
            "align_content": null,
            "align_items": null,
            "align_self": null,
            "border": null,
            "bottom": null,
            "display": null,
            "flex": null,
            "flex_flow": null,
            "grid_area": null,
            "grid_auto_columns": null,
            "grid_auto_flow": null,
            "grid_auto_rows": null,
            "grid_column": null,
            "grid_gap": null,
            "grid_row": null,
            "grid_template_areas": null,
            "grid_template_columns": null,
            "grid_template_rows": null,
            "height": null,
            "justify_content": null,
            "justify_items": null,
            "left": null,
            "margin": null,
            "max_height": null,
            "max_width": null,
            "min_height": null,
            "min_width": null,
            "object_fit": null,
            "object_position": null,
            "order": null,
            "overflow": null,
            "overflow_x": null,
            "overflow_y": null,
            "padding": null,
            "right": null,
            "top": null,
            "visibility": null,
            "width": null
          }
        },
        "ff3df5daa0c749d2a5670fc047960898": {
          "model_module": "@jupyter-widgets/base",
          "model_module_version": "1.2.0",
          "model_name": "LayoutModel",
          "state": {
            "_model_module": "@jupyter-widgets/base",
            "_model_module_version": "1.2.0",
            "_model_name": "LayoutModel",
            "_view_count": null,
            "_view_module": "@jupyter-widgets/base",
            "_view_module_version": "1.2.0",
            "_view_name": "LayoutView",
            "align_content": null,
            "align_items": null,
            "align_self": null,
            "border": null,
            "bottom": null,
            "display": null,
            "flex": null,
            "flex_flow": null,
            "grid_area": null,
            "grid_auto_columns": null,
            "grid_auto_flow": null,
            "grid_auto_rows": null,
            "grid_column": null,
            "grid_gap": null,
            "grid_row": null,
            "grid_template_areas": null,
            "grid_template_columns": null,
            "grid_template_rows": null,
            "height": null,
            "justify_content": null,
            "justify_items": null,
            "left": null,
            "margin": null,
            "max_height": null,
            "max_width": null,
            "min_height": null,
            "min_width": null,
            "object_fit": null,
            "object_position": null,
            "order": null,
            "overflow": null,
            "overflow_x": null,
            "overflow_y": null,
            "padding": null,
            "right": null,
            "top": null,
            "visibility": null,
            "width": null
          }
        }
      }
    }
  },
  "nbformat": 4,
  "nbformat_minor": 0
}
